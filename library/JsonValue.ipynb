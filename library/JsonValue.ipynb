
        {
            "cells": [
          {
           "cell_type": "markdown",
           "metadata": {},
           
           "source": ["// can\u0027t yet format YamlFrontmatter ([\"category: Utilities\"; \"categoryindex: 1\"; \"index: 5\"], Some { StartLine = 2 StartColumn = 0 EndLine = 5 EndColumn = 8 }) to pynb markdown\n",
"\n"]
          }
,
          {
           "cell_type": "code",
           "metadata": {},
            "execution_count": null, "outputs": [],
           "source": ["#r \"nuget: FSharp.Data,4.2.5\"\n",
"\n",
"Formatter.SetPreferredMimeTypesFor(typeof\u003cobj\u003e, \"text/plain\")\n",
"Formatter.Register(fun (x:obj) (writer: TextWriter) -\u003e fprintfn writer \"%120A\" x )\n"]
          }
,
          {
           "cell_type": "markdown",
           "metadata": {},
           
           "source": ["[![Binder](../img/badge-binder.svg)](https://mybinder.org/v2/gh/fsprojects/FSharp.Data/gh-pages?filepath=library/JsonValue.ipynb)\u0026emsp;\n",
"[![Script](../img/badge-script.svg)](https://fsprojects.github.io/FSharp.Data//library/JsonValue.fsx)\u0026emsp;\n",
"[![Notebook](../img/badge-notebook.svg)](https://fsprojects.github.io/FSharp.Data//library/JsonValue.ipynb)\n",
"\n",
"# JSON Parser\n",
"\n",
"The F# [JSON Type Provider](JsonProvider.html) is built on top of an efficient JSON parser written\n",
"in F#.\n",
"\n",
"When working with well-defined JSON documents, it is easier to use the\n",
"[type provider](JsonProvider.html), but in a more dynamic scenario or when writing\n",
"quick and simple scripts, the parser might be a simpler option.\n",
"\n",
"## Loading JSON documents\n",
"\n",
"To load a sample JSON document, we first need to reference the `FSharp.Data` package.\n",
"\n"]
          }
,
          {
           "cell_type": "code",
           "metadata": {},
            "execution_count": 2, "outputs": [],
           "source": ["open FSharp.Data\n"]
          }
,
          {
           "cell_type": "markdown",
           "metadata": {},
           
           "source": ["The `FSharp.Data` namespace contains the [JsonValue](https://fsprojects.github.io/FSharp.Data/reference/fsharp-data-jsonvalue.html) type that can be used\n",
"to parse strings formatted using JSON as follows:\n",
"\n"]
          }
,
          {
           "cell_type": "code",
           "metadata": {},
            "execution_count": 3, "outputs": [
          {
           "data": {
            "text/plain": ["val info : JsonValue =",
"",
"  {",
"",
"  \"name\": \"Tomas\",",
"",
"  \"born\": 1985,",
"",
"  \"siblings\": [",
"",
"    \"Jan\",",
"",
"    \"Alexander\"",
"",
"  ]",
"",
"}"]
        },
           "execution_count": 3,
           "metadata": {},
           "output_type": "execute_result"
          }],
           "source": ["let info =\n",
"  JsonValue.Parse(\"\"\"\n",
"    { \"name\": \"Tomas\", \"born\": 1985,\n",
"      \"siblings\": [ \"Jan\", \"Alexander\" ] } \"\"\")\n"]
          }
,
          {
           "cell_type": "markdown",
           "metadata": {},
           
           "source": ["The parsed value can be processed using pattern matching - the [JsonValue](https://fsprojects.github.io/FSharp.Data/reference/fsharp-data-jsonvalue.html) type\n",
"is a discriminated union with cases such as `Record`, `Collection` and others that\n",
"can be used to examine the structure.\n",
"\n",
"## Using JSON extensions\n",
"\n",
"We do not cover this technique in this introduction. Instead, we look at a number\n",
"of extensions that become available after opening the [JsonExtensions](https://fsprojects.github.io/FSharp.Data/reference/fsharp-data-jsonextensionsmodule.html)\n",
"module. Once opened, we can write:\n",
"\n",
"// can\u0027t yet format Span ([InlineCode (\"value.AsBoolean()\", Some { StartLine = 12 StartColumn = 4 EndLine = 12 EndColumn = 85 }); Literal (\" returns the value as boolean if it is either \", Some { StartLine = 12 StartColumn = 3 EndLine = 12 EndColumn = 49 }); InlineCode (\"true\", Some { StartLine = 12 StartColumn = 50 EndLine = 12 EndColumn = 85 }); Literal (\" or \", Some { StartLine = 12 StartColumn = 49 EndLine = 12 EndColumn = 53 }); InlineCode (\"false\", Some { StartLine = 12 StartColumn = 54 EndLine = 12 EndColumn = 85 }); Literal (\".\", Some { StartLine = 12 StartColumn = 53 EndLine = 12 EndColumn = 54 })], Some { StartLine = 12 StartColumn = 0 EndLine = 12 EndColumn = 86 }) to pynb markdown\n",
"// can\u0027t yet format Span ([InlineCode (\"value.AsInteger()\", Some { StartLine = 13 StartColumn = 4 EndLine = 15 EndColumn = 37 }); Literal (\" returns the value as integer if it is numeric and can be\n",
"converted to an integer; \", Some { StartLine = 13 StartColumn = 3 EndLine = 15 EndColumn = 87 }); InlineCode (\"value.AsInteger64()\", Some { StartLine = 13 StartColumn = 88 EndLine = 15 EndColumn = 37 }); Literal (\", \", Some { StartLine = 13 StartColumn = 87 EndLine = 15 EndColumn = 89 }); InlineCode (\"value.AsDecimal()\", Some { StartLine = 13 StartColumn = 90 EndLine = 15 EndColumn = 37 }); Literal (\" and\n",
"\", Some { StartLine = 13 StartColumn = 89 EndLine = 15 EndColumn = 95 }); InlineCode (\"value.AsFloat()\", Some { StartLine = 13 StartColumn = 96 EndLine = 15 EndColumn = 37 }); Literal (\" behave similarly.\", Some { StartLine = 13 StartColumn = 95 EndLine = 15 EndColumn = 113 })], Some { StartLine = 12 StartColumn = 0 EndLine = 12 EndColumn = 86 }) to pynb markdown\n",
"// can\u0027t yet format Span ([InlineCode (\"value.AsString()\", Some { StartLine = 16 StartColumn = 4 EndLine = 16 EndColumn = 51 }); Literal (\" returns the value as a string.\", Some { StartLine = 16 StartColumn = 3 EndLine = 16 EndColumn = 34 })], Some { StartLine = 12 StartColumn = 0 EndLine = 12 EndColumn = 86 }) to pynb markdown\n",
"// can\u0027t yet format Span ([InlineCode (\"value.AsDateTime()\", Some { StartLine = 17 StartColumn = 4 EndLine = 19 EndColumn = 80 }); Literal (\" parses the string as a \", Some { StartLine = 17 StartColumn = 3 EndLine = 19 EndColumn = 27 }); InlineCode (\"DateTime\", Some { StartLine = 17 StartColumn = 28 EndLine = 19 EndColumn = 80 }); Literal (\" value using either the\n",
"\", Some { StartLine = 17 StartColumn = 27 EndLine = 19 EndColumn = 52 }); DirectLink ([Literal (\"ISO 8601\", Some { StartLine = 17 StartColumn = 52 EndLine = 19 EndColumn = 60 })], \"http://en.wikipedia.org/wiki/ISO_8601\", None, Some { StartLine = 17 StartColumn = 52 EndLine = 19 EndColumn = 81 }); Literal (\" format, or using the\n",
"\", Some { StartLine = 17 StartColumn = 52 EndLine = 19 EndColumn = 75 }); InlineCode (\"\\/Date(...)\\/\", Some { StartLine = 17 StartColumn = 76 EndLine = 19 EndColumn = 80 }); Literal (\" JSON format containing number of milliseconds since 1/1/1970.\", Some { StartLine = 17 StartColumn = 75 EndLine = 19 EndColumn = 137 })], Some { StartLine = 12 StartColumn = 0 EndLine = 12 EndColumn = 86 }) to pynb markdown\n",
"// can\u0027t yet format Span ([InlineCode (\"value.AsDateTimeOffset()\", Some { StartLine = 20 StartColumn = 4 EndLine = 23 EndColumn = 63 }); Literal (\" parses the string as a \", Some { StartLine = 20 StartColumn = 3 EndLine = 23 EndColumn = 27 }); InlineCode (\"DateTimeOffset\", Some { StartLine = 20 StartColumn = 28 EndLine = 23 EndColumn = 63 }); Literal (\" value using either the\n",
"\", Some { StartLine = 20 StartColumn = 27 EndLine = 23 EndColumn = 52 }); DirectLink ([Literal (\"ISO 8601\", Some { StartLine = 20 StartColumn = 52 EndLine = 23 EndColumn = 60 })], \"http://en.wikipedia.org/wiki/ISO_8601\", None, Some { StartLine = 20 StartColumn = 52 EndLine = 23 EndColumn = 64 }); Literal (\" format, or using the\n",
"\", Some { StartLine = 20 StartColumn = 52 EndLine = 23 EndColumn = 75 }); InlineCode (\"\\/Date(...[+/-]offset)\\/\", Some { StartLine = 20 StartColumn = 76 EndLine = 23 EndColumn = 63 }); Literal (\" JSON format containing number of milliseconds since 1/1/1970,\n",
"\", Some { StartLine = 20 StartColumn = 75 EndLine = 23 EndColumn = 139 }); IndirectLink ([Literal (\"+/-\", Some { StartLine = 20 StartColumn = 139 EndLine = 23 EndColumn = 142 })], \"\", \"+/-\", Some { StartLine = 20 StartColumn = 139 EndLine = 23 EndColumn = 64 }); Literal (\" the 4 digit offset. Example- \", Some { StartLine = 20 StartColumn = 139 EndLine = 23 EndColumn = 169 }); InlineCode (\"\\/Date(1231456+1000)\\/\", Some { StartLine = 20 StartColumn = 170 EndLine = 23 EndColumn = 63 }); Literal (\".\", Some { StartLine = 20 StartColumn = 169 EndLine = 23 EndColumn = 170 })], Some { StartLine = 12 StartColumn = 0 EndLine = 12 EndColumn = 86 }) to pynb markdown\n",
"// can\u0027t yet format Span ([InlineCode (\"value.AsTimeSpan()\", Some { StartLine = 24 StartColumn = 4 EndLine = 24 EndColumn = 63 }); Literal (\" parses the string as a \", Some { StartLine = 24 StartColumn = 3 EndLine = 24 EndColumn = 27 }); InlineCode (\"TimeSpan\", Some { StartLine = 24 StartColumn = 28 EndLine = 24 EndColumn = 63 }); Literal (\" value.\", Some { StartLine = 24 StartColumn = 27 EndLine = 24 EndColumn = 34 })], Some { StartLine = 12 StartColumn = 0 EndLine = 12 EndColumn = 86 }) to pynb markdown\n",
"// can\u0027t yet format Span ([InlineCode (\"value.AsGuid()\", Some { StartLine = 25 StartColumn = 4 EndLine = 25 EndColumn = 55 }); Literal (\" parses the string as a \", Some { StartLine = 25 StartColumn = 3 EndLine = 25 EndColumn = 27 }); InlineCode (\"Guid\", Some { StartLine = 25 StartColumn = 28 EndLine = 25 EndColumn = 55 }); Literal (\" value.\", Some { StartLine = 25 StartColumn = 27 EndLine = 25 EndColumn = 34 })], Some { StartLine = 12 StartColumn = 0 EndLine = 12 EndColumn = 86 }) to pynb markdown\n",
"// can\u0027t yet format Span ([InlineCode (\"value?child\", Some { StartLine = 26 StartColumn = 4 EndLine = 28 EndColumn = 19 }); Literal (\" uses the dynamic operator to obtain a record member named \", Some { StartLine = 26 StartColumn = 3 EndLine = 28 EndColumn = 62 }); InlineCode (\"child\", Some { StartLine = 26 StartColumn = 63 EndLine = 28 EndColumn = 19 }); Literal (\";\n",
"alternatively, you can also use \", Some { StartLine = 26 StartColumn = 62 EndLine = 28 EndColumn = 97 }); InlineCode (\"value.GetProperty(child)\", Some { StartLine = 26 StartColumn = 98 EndLine = 28 EndColumn = 19 }); Literal (\" or an indexer\n",
"\", Some { StartLine = 26 StartColumn = 97 EndLine = 28 EndColumn = 113 }); InlineCode (\"value.[child]\", Some { StartLine = 26 StartColumn = 114 EndLine = 28 EndColumn = 19 }); Literal (\".\", Some { StartLine = 26 StartColumn = 113 EndLine = 28 EndColumn = 114 })], Some { StartLine = 12 StartColumn = 0 EndLine = 12 EndColumn = 86 }) to pynb markdown\n",
"// can\u0027t yet format Span ([InlineCode (\"value.TryGetProperty(child)\", Some { StartLine = 29 StartColumn = 4 EndLine = 31 EndColumn = 19 }); Literal (\" can be used to safely obtain a record member\n",
"(if the member is missing or the value is not a record then, \", Some { StartLine = 29 StartColumn = 3 EndLine = 31 EndColumn = 111 }); InlineCode (\"TryGetProperty\", Some { StartLine = 29 StartColumn = 112 EndLine = 31 EndColumn = 19 }); Literal (\"\n",
"returns \", Some { StartLine = 29 StartColumn = 111 EndLine = 31 EndColumn = 121 }); InlineCode (\"None\", Some { StartLine = 29 StartColumn = 122 EndLine = 31 EndColumn = 19 }); Literal (\").\", Some { StartLine = 29 StartColumn = 121 EndLine = 31 EndColumn = 123 })], Some { StartLine = 12 StartColumn = 0 EndLine = 12 EndColumn = 86 }) to pynb markdown\n",
"// can\u0027t yet format Span ([InlineCode (\"[ for v in value -\u003e v ]\", Some { StartLine = 32 StartColumn = 4 EndLine = 34 EndColumn = 20 }); Literal (\" treats \", Some { StartLine = 32 StartColumn = 3 EndLine = 34 EndColumn = 11 }); InlineCode (\"value\", Some { StartLine = 32 StartColumn = 12 EndLine = 34 EndColumn = 20 }); Literal (\" as a collection and iterates over it;\n",
"alternatively, it is possible to obtain all elements as an array using\n",
"\", Some { StartLine = 32 StartColumn = 11 EndLine = 34 EndColumn = 123 }); InlineCode (\"value.AsArray()\", Some { StartLine = 32 StartColumn = 124 EndLine = 34 EndColumn = 20 }); Literal (\".\", Some { StartLine = 32 StartColumn = 123 EndLine = 34 EndColumn = 124 })], Some { StartLine = 12 StartColumn = 0 EndLine = 12 EndColumn = 86 }) to pynb markdown\n",
"// can\u0027t yet format Span ([InlineCode (\"value.Properties()\", Some { StartLine = 35 StartColumn = 4 EndLine = 35 EndColumn = 73 }); Literal (\" returns a list of all properties of a record node.\", Some { StartLine = 35 StartColumn = 3 EndLine = 35 EndColumn = 54 })], Some { StartLine = 12 StartColumn = 0 EndLine = 12 EndColumn = 86 }) to pynb markdown\n",
"// can\u0027t yet format Span ([InlineCode (\"value.InnerText()\", Some { StartLine = 36 StartColumn = 4 EndLine = 38 EndColumn = -3 }); Literal (\" concatenates all text or text in an array\n",
"(representing e.g. multi-line string).\", Some { StartLine = 36 StartColumn = 3 EndLine = 38 EndColumn = 85 })], Some { StartLine = 12 StartColumn = 0 EndLine = 12 EndColumn = 86 }) to pynb markdown\n",
"Methods that may need to parse a numeric value or date (such as `AsFloat` and\n",
"`AsDateTime`) receive an optional culture parameter.\n",
"\n",
"The following example shows how to process the sample JSON value:\n",
"\n"]
          }
,
          {
           "cell_type": "code",
           "metadata": {},
            "execution_count": 4, "outputs": [
          {
           "data": {
            "text/plain": ["Tomas (1985)",
"",
"Jan",
"",
"Alexander",
"",
"val n : JsonValue = \"Tomas\"",
"",
"val it : unit = ()"]
        },
           "execution_count": 4,
           "metadata": {},
           "output_type": "execute_result"
          }],
           "source": ["open FSharp.Data.JsonExtensions\n",
"\n",
"// Print name and birth year\n",
"let n = info?name\n",
"printfn \"%s (%d)\" (info?name.AsString()) (info?born.AsInteger())\n",
"\n",
"// Print names of all siblings\n",
"for sib in info?siblings do\n",
"  printfn \"%s\" (sib.AsString())\n"]
          }
,
          {
           "cell_type": "markdown",
           "metadata": {},
           
           "source": ["Note that the [JsonValue](https://fsprojects.github.io/FSharp.Data/reference/fsharp-data-jsonvalue.html) type does not actually implement the `IEnumerable\u003c\u0027T\u003e`\n",
"interface (meaning that it cannot be passed to `Seq.xyz` functions). It only has\n",
"the `GetEnumerator` method, which makes it possible to use it in sequence expressions\n",
"and with the `for` loop.\n",
"\n",
"## Parsing WorldBank response\n",
"\n",
"To look at a more complex example, consider a sample document\n",
"[`data/WorldBank.json`](../data/WorldBank.json) which was obtained as a response to\n",
"a WorldBank request (you can access the WorldBank data more conveniently using\n",
"[a type provider](WorldBank.html)). The document looks as follows:\n",
"\n",
"    [lang=js]\n",
"    [ { \"page\": 1, \"pages\": 1, \"total\": 53 },\n",
"      [ { \"indicator\": {\"value\": \"Central government debt, total (% of GDP)\"},\n",
"          \"country\": {\"id\":\"CZ\",\"value\":\"Czech Republic\"},\n",
"          \"value\":null,\"decimal\":\"1\",\"date\":\"2000\"},\n",
"        { \"indicator\": {\"value\": \"Central government debt, total (% of GDP)\"},\n",
"          \"country\": {\"id\":\"CZ\",\"value\":\"Czech Republic\"},\n",
"          \"value\":\"16.6567773464055\",\"decimal\":\"1\",\"date\":\"2010\"} ] ]\n",
"\n",
"The document is formed by an array that contains a record as the first element\n",
"and a collection of data points as the second element. The following code\n",
"reads the document and parses it:\n",
"\n"]
          }
,
          {
           "cell_type": "code",
           "metadata": {},
            "execution_count": 5, "outputs": [],
           "source": ["let value = JsonValue.Load(__SOURCE_DIRECTORY__ + \"../../data/WorldBank.json\")\n"]
          }
,
          {
           "cell_type": "markdown",
           "metadata": {},
           
           "source": ["Note that we can also load the data directly from the web, and there\u0027s an\n",
"asynchronous version available too:\n",
"\n"]
          }
,
          {
           "cell_type": "code",
           "metadata": {},
            "execution_count": 6, "outputs": [
          {
           "data": {
            "text/plain": ["val wbReq : string =",
"",
"  \"http://api.worldbank.org/country/cz/indicator/GC.DOD.TOTL.GD.\"+[14 chars]",
"",
"val valueAsync : Async\u003cJsonValue\u003e"]
        },
           "execution_count": 6,
           "metadata": {},
           "output_type": "execute_result"
          }],
           "source": ["let wbReq =\n",
"  \"http://api.worldbank.org/country/cz/indicator/\" +\n",
"  \"GC.DOD.TOTL.GD.ZS?format=json\"\n",
"\n",
"let valueAsync =\n",
"  JsonValue.AsyncLoad(wbReq)\n"]
          }
,
          {
           "cell_type": "markdown",
           "metadata": {},
           
           "source": ["To split the top-level array into the first record (with overall information)\n",
"and the collection of data points, we use pattern matching and match the `value`\n",
"against the `JsonValue.Array` constructor:\n",
"\n"]
          }
,
          {
           "cell_type": "code",
           "metadata": {},
            "execution_count": 7, "outputs": [
          {
           "data": {
            "text/plain": ["Showing page 1 of 1. Total records 53",
"",
"2010: 35.142297",
"",
"2009: 31.034880",
"",
"2008: 25.475164",
"",
"2007: 24.193320",
"",
"2006: 23.708055",
"",
"2005: 22.033462",
"",
"2004: 20.108379",
"",
"2003: 18.267725",
"",
"2002: 15.425565",
"",
"2001: 14.874434",
"",
"2000: 13.218869",
"",
"1999: 11.356696",
"",
"1998: 10.178780",
"",
"1997: 10.153566",
"",
"1996: 10.520301",
"",
"1995: 12.707834",
"",
"1994: 14.781808",
"",
"1993: 16.656777",
"",
"val it : unit = ()"]
        },
           "execution_count": 7,
           "metadata": {},
           "output_type": "execute_result"
          }],
           "source": ["match value with\n",
"| JsonValue.Array [| info; data |] -\u003e\n",
"    // Print overall information\n",
"    let page, pages, total = info?page, info?pages, info?total\n",
"    printfn\n",
"      \"Showing page %d of %d. Total records %d\"\n",
"      (page.AsInteger()) (pages.AsInteger()) (total.AsInteger())\n",
"\n",
"    // Print every non-null data point\n",
"    for record in data do\n",
"      if record?value \u003c\u003e JsonValue.Null then\n",
"        printfn \"%d: %f\" (record?date.AsInteger())\n",
"                         (record?value.AsFloat())\n",
"| _ -\u003e printfn \"failed\"\n"]
          }
,
          {
           "cell_type": "markdown",
           "metadata": {},
           
           "source": ["The `value` property of a data point is not always available - as demonstrated\n",
"above, the value may be `null`. In that case, we want to skip the data point.\n",
"To check whether the property is `null` we simply compare it with `JsonValue.Null`.\n",
"\n",
"The `date` values will be parsed as `DateTimeOffset` if there is an offset present.\n",
"However, for a mixed collection of `DateTime` (that is, without the offset) and\n",
"`DateTimeOffset` values, the type of the collection will be collection of `DateTime`\n",
"after parsing. Also note that the `date` and `value` properties are formatted as strings\n",
"in the source file (e.g. `\"1990\"`) instead of numbers (e.g. `1990`). When you try\n",
"accessing the value as an integer or float, the [JsonValue](https://fsprojects.github.io/FSharp.Data/reference/fsharp-data-jsonvalue.html) automatically parses\n",
"the string into the desired format. In general, the API attempts to be as tolerant\n",
"as possible when parsing the file.\n",
"\n",
"## Related articles\n",
"\n",
"// can\u0027t yet format Span ([DirectLink ([Literal (\"JsonValue\", Some { StartLine = 17 StartColumn = 4 EndLine = 17 EndColumn = 32 })], \"https://fsprojects.github.io/FSharp.Data/reference/fsharp-data-jsonvalue.html\", None, Some { StartLine = 17 StartColumn = 4 EndLine = 17 EndColumn = 32 })], Some { StartLine = 17 StartColumn = 0 EndLine = 17 EndColumn = 33 }) to pynb markdown\n",
"// can\u0027t yet format Span ([DirectLink ([Literal (\"JSON Type Provider\", Some { StartLine = 18 StartColumn = 3 EndLine = 19 EndColumn = 21 })], \"JsonProvider.html\", None, Some { StartLine = 18 StartColumn = 3 EndLine = 19 EndColumn = 46 }); Literal (\" - discusses a F# type provider\n",
"that provides type-safe access to JSON data\", Some { StartLine = 18 StartColumn = 3 EndLine = 19 EndColumn = 79 })], Some { StartLine = 17 StartColumn = 0 EndLine = 17 EndColumn = 33 }) to pynb markdown\n",
"// can\u0027t yet format Span ([DirectLink ([Literal (\"WorldBank Provider\", Some { StartLine = 20 StartColumn = 3 EndLine = 21 EndColumn = 21 })], \"WorldBank.html\", None, Some { StartLine = 20 StartColumn = 3 EndLine = 21 EndColumn = 55 }); Literal (\" - the WorldBank type provider\n",
"can be used to easily access data from the WorldBank\", Some { StartLine = 20 StartColumn = 3 EndLine = 21 EndColumn = 87 })], Some { StartLine = 17 StartColumn = 0 EndLine = 17 EndColumn = 33 }) to pynb markdown\n",
"// can\u0027t yet format Span ([Literal (\"API Reference: \", Some { StartLine = 22 StartColumn = 3 EndLine = 22 EndColumn = 18 }); DirectLink ([Literal (\"JsonValue\", Some { StartLine = 22 StartColumn = 19 EndLine = 22 EndColumn = 47 })], \"https://fsprojects.github.io/FSharp.Data/reference/fsharp-data-jsonvalue.html\", None, Some { StartLine = 22 StartColumn = 19 EndLine = 22 EndColumn = 47 })], Some { StartLine = 17 StartColumn = 0 EndLine = 17 EndColumn = 33 }) to pynb markdown\n",
"// can\u0027t yet format Span ([Literal (\"API Reference: \", Some { StartLine = 23 StartColumn = 3 EndLine = 23 EndColumn = 18 }); DirectLink ([Literal (\"JsonExtensions\", Some { StartLine = 23 StartColumn = 19 EndLine = 23 EndColumn = 57 })], \"https://fsprojects.github.io/FSharp.Data/reference/fsharp-data-jsonextensions.html\", None, Some { StartLine = 23 StartColumn = 19 EndLine = 23 EndColumn = 57 }); Literal (\" type\", Some { StartLine = 23 StartColumn = 18 EndLine = 23 EndColumn = 23 })], Some { StartLine = 17 StartColumn = 0 EndLine = 17 EndColumn = 33 }) to pynb markdown\n",
"// can\u0027t yet format Span ([Literal (\"API Reference: \", Some { StartLine = 24 StartColumn = 3 EndLine = 25 EndColumn = 18 }); DirectLink ([Literal (\"JsonExtensions\", Some { StartLine = 24 StartColumn = 19 EndLine = 25 EndColumn = -3 })], \"https://fsprojects.github.io/FSharp.Data/reference/fsharp-data-jsonextensionsmodule.html\", None, Some { StartLine = 24 StartColumn = 19 EndLine = 25 EndColumn = -3 }); Literal (\" module\", Some { StartLine = 24 StartColumn = 18 EndLine = 25 EndColumn = 25 })], Some { StartLine = 17 StartColumn = 0 EndLine = 17 EndColumn = 33 }) to pynb markdown\n"]
          }],
            "metadata": {
            "kernelspec": {"display_name": ".NET (F#)", "language": "F#", "name": ".net-fsharp"},
            "langauge_info": {
        "file_extension": ".fs",
        "mimetype": "text/x-fsharp",
        "name": "C#",
        "pygments_lexer": "fsharp",
        "version": "4.5"
        }
        },
            "nbformat": 4,
            "nbformat_minor": 1
        }
        

