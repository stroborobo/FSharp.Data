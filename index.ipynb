
        {
            "cells": [
          {
           "cell_type": "markdown",
           "metadata": {},
           
           "source": ["# FSharp.Data: Data Access Made Simple\n",
"\n",
"The FSharp.Data package implements core functionality to\n",
"access common data formats in your F# applications and scripts. It contains F# type\n",
"providers for working with structured file formats (CSV, HTML, JSON and XML) and helpers for parsing\n",
"CSV, HTML and JSON files and for sending HTTP requests.\n",
"\n",
"This library focuses on providing simple access to the structured documents\n",
"and other data sources.\n",
"\n",
"FSharp.Data stems from [Types from data Making structured data first-class citizens in F#](http://tomasp.net/academic/papers/fsharp-data/) by Petricek, Syme and Guerra. This paper\n",
"received a Distinguished Paper award at PLDI 2016 and was selected as one of three CACM Research\n",
"Highlight in 2018. 🏆🏆🏆\n",
"\n",
"The package is available on \u003ca href=\"https://nuget.org/packages/FSharp.Data\"\u003eNuGet\u003c/a\u003e. [![NuGet Status](//img.shields.io/nuget/v/FSharp.Data.svg?style=flat)](https://www.nuget.org/packages/FSharp.Data/)\n",
"\n",
"## Type Providers\n",
"\n"]
          }
,
          {
           "cell_type": "code",
           "metadata": {},
            "execution_count": null, "outputs": [],
           "source": ["\u003cdiv class=\"container-fluid\" style=\"margin:15px 0px 15px 0px;\"\u003e\n",
"    \u003cdiv class=\"row-fluid\"\u003e\n",
"        \u003cdiv class=\"span1\"\u003e\u003c/div\u003e\n",
"        \u003cdiv class=\"span10\" id=\"anim-holder\"\u003e\n",
"            \u003ca id=\"lnk\" href=\"images/json.gif\"\u003e\u003cimg id=\"anim\" src=\"images/json.gif\" /\u003e\u003c/a\u003e\n",
"        \u003c/div\u003e\n",
"        \u003cdiv class=\"span1\"\u003e\u003c/div\u003e\n",
"    \u003c/div\u003e\n",
"\u003c/div\u003e\n"]
          }
,
          {
           "cell_type": "markdown",
           "metadata": {},
           
           "source": ["The FSharp.Data type providers for CSV, HTML, JSON and XML infer types from the structure of a sample\n",
"document (or a document containing multiple samples). The structure is then used\n",
"to provide easy to use type-safe access to documents that follow the same structure.\n",
"\n",
"// can\u0027t yet format Span ([DirectLink ([Literal (\"CSV Type Provider\", Some { StartLine = 36 StartColumn = 3 EndLine = 36 EndColumn = 20 })], \"library/CsvProvider.html\", None, Some { StartLine = 36 StartColumn = 3 EndLine = 36 EndColumn = 87 }); Literal (\" - discusses the \", Some { StartLine = 36 StartColumn = 3 EndLine = 36 EndColumn = 20 }); InlineCode (\"CsvProvider\u003c..\u003e\", Some { StartLine = 36 StartColumn = 21 EndLine = 36 EndColumn = 86 }); Literal (\" type\", Some { StartLine = 36 StartColumn = 20 EndLine = 36 EndColumn = 25 })], Some { StartLine = 36 StartColumn = 0 EndLine = 36 EndColumn = 87 }) to pynb markdown\n",
"// can\u0027t yet format Span ([DirectLink ([Literal (\"HTML Type Provider\", Some { StartLine = 37 StartColumn = 3 EndLine = 37 EndColumn = 21 })], \"library/HtmlProvider.html\", None, Some { StartLine = 37 StartColumn = 3 EndLine = 37 EndColumn = 91 }); Literal (\" - discusses the \", Some { StartLine = 37 StartColumn = 3 EndLine = 37 EndColumn = 20 }); InlineCode (\"HtmlProvider\u003c...\u003e\", Some { StartLine = 37 StartColumn = 21 EndLine = 37 EndColumn = 90 }); Literal (\" type\", Some { StartLine = 37 StartColumn = 20 EndLine = 37 EndColumn = 25 })], Some { StartLine = 36 StartColumn = 0 EndLine = 36 EndColumn = 87 }) to pynb markdown\n",
"// can\u0027t yet format Span ([DirectLink ([Literal (\"JSON Type Provider\", Some { StartLine = 38 StartColumn = 3 EndLine = 38 EndColumn = 21 })], \"library/JsonProvider.html\", None, Some { StartLine = 38 StartColumn = 3 EndLine = 38 EndColumn = 90 }); Literal (\" - discusses the \", Some { StartLine = 38 StartColumn = 3 EndLine = 38 EndColumn = 20 }); InlineCode (\"JsonProvider\u003c..\u003e\", Some { StartLine = 38 StartColumn = 21 EndLine = 38 EndColumn = 89 }); Literal (\" type\", Some { StartLine = 38 StartColumn = 20 EndLine = 38 EndColumn = 25 })], Some { StartLine = 36 StartColumn = 0 EndLine = 36 EndColumn = 87 }) to pynb markdown\n",
"// can\u0027t yet format Span ([DirectLink ([Literal (\"XML Type Provider\", Some { StartLine = 39 StartColumn = 3 EndLine = 40 EndColumn = 20 })], \"library/XmlProvider.html\", None, Some { StartLine = 39 StartColumn = 3 EndLine = 40 EndColumn = -2 }); Literal (\" - discusses the \", Some { StartLine = 39 StartColumn = 3 EndLine = 40 EndColumn = 20 }); InlineCode (\"XmlProvider\u003c..\u003e\", Some { StartLine = 39 StartColumn = 21 EndLine = 40 EndColumn = -3 }); Literal (\" type\", Some { StartLine = 39 StartColumn = 20 EndLine = 40 EndColumn = 25 })], Some { StartLine = 36 StartColumn = 0 EndLine = 36 EndColumn = 87 }) to pynb markdown\n",
"The package also contains a type provider for accessing data from\n",
"[the WorldBank](library/WorldBank.html).\n",
"\n",
"## Data Access Tools\n",
"\n",
"The package contains functionality to simplify data access. In particular, it includes tools for HTTP web requests and\n",
"CSV, HTML, and JSON parsers with simple dynamic API. For more information, see the\n",
"following topics:\n",
"\n",
"// can\u0027t yet format Span ([DirectLink ([Literal (\"HTTP Utilities\", Some { StartLine = 50 StartColumn = 3 EndLine = 51 EndColumn = 17 })], \"library/Http.html\", None, Some { StartLine = 50 StartColumn = 3 EndLine = 51 EndColumn = 29 }); Literal (\" - discusses the \", Some { StartLine = 50 StartColumn = 3 EndLine = 51 EndColumn = 20 }); InlineCode (\"Http\", Some { StartLine = 50 StartColumn = 21 EndLine = 51 EndColumn = 28 }); Literal (\" type that can be used\n",
"to send HTTP web requests.\", Some { StartLine = 50 StartColumn = 20 EndLine = 51 EndColumn = 70 })], Some { StartLine = 50 StartColumn = 0 EndLine = 50 EndColumn = 83 }) to pynb markdown\n",
"// can\u0027t yet format Span ([DirectLink ([Literal (\"CSV Parser\", Some { StartLine = 52 StartColumn = 3 EndLine = 53 EndColumn = 13 })], \"library/CsvFile.html\", None, Some { StartLine = 52 StartColumn = 3 EndLine = 53 EndColumn = 36 }); Literal (\" - introduces the CSV parser \n",
"(without using the type provider)\", Some { StartLine = 52 StartColumn = 3 EndLine = 53 EndColumn = 67 })], Some { StartLine = 50 StartColumn = 0 EndLine = 50 EndColumn = 83 }) to pynb markdown\n",
"// can\u0027t yet format Span ([DirectLink ([Literal (\"HTML Parser\", Some { StartLine = 54 StartColumn = 3 EndLine = 55 EndColumn = 14 })], \"library/HtmlParser.html\", None, Some { StartLine = 54 StartColumn = 3 EndLine = 55 EndColumn = 36 }); Literal (\" - introduces the HTML parser \n",
"(without using the type provider)\", Some { StartLine = 54 StartColumn = 3 EndLine = 55 EndColumn = 68 })], Some { StartLine = 50 StartColumn = 0 EndLine = 50 EndColumn = 83 }) to pynb markdown\n",
"// can\u0027t yet format Span ([DirectLink ([Literal (\"JSON Parser\", Some { StartLine = 56 StartColumn = 3 EndLine = 58 EndColumn = 14 })], \"library/JsonValue.html\", None, Some { StartLine = 56 StartColumn = 3 EndLine = 58 EndColumn = -2 }); Literal (\" - introduces the JSON parser \n",
"(without using the type provider)\", Some { StartLine = 56 StartColumn = 3 EndLine = 58 EndColumn = 68 })], Some { StartLine = 50 StartColumn = 0 EndLine = 50 EndColumn = 83 }) to pynb markdown\n",
"## Tutorials\n",
"\n",
"The following tutorials contain additional examples that\n",
"use multiple features together:\n",
"\n",
"// can\u0027t yet format Span ([DirectLink ([Literal (\"Converting between JSON and XML\", Some { StartLine = 64 StartColumn = 3 EndLine = 66 EndColumn = 34 })], \"tutorials/JsonToXml.html\", None, Some { StartLine = 64 StartColumn = 3 EndLine = 66 EndColumn = 61 }); Literal (\" - implements two serialization \n",
"functions that convert between the standard .NET \", Some { StartLine = 64 StartColumn = 3 EndLine = 66 EndColumn = 86 }); InlineCode (\"XElement\", Some { StartLine = 64 StartColumn = 87 EndLine = 66 EndColumn = 60 }); Literal (\" and the \", Some { StartLine = 64 StartColumn = 86 EndLine = 66 EndColumn = 95 }); InlineCode (\"JsonValue\", Some { StartLine = 64 StartColumn = 96 EndLine = 66 EndColumn = 60 }); Literal (\" from FSharp.Data.\n",
"The tutorial demonstrates pattern matching on \", Some { StartLine = 64 StartColumn = 95 EndLine = 66 EndColumn = 161 }); InlineCode (\"JsonValue\", Some { StartLine = 64 StartColumn = 162 EndLine = 66 EndColumn = 60 }); Literal (\".\", Some { StartLine = 64 StartColumn = 161 EndLine = 66 EndColumn = 162 })], Some { StartLine = 64 StartColumn = 0 EndLine = 64 EndColumn = 94 }) to pynb markdown\n",
"// can\u0027t yet format Span ([DirectLink ([Literal (\"Anonymizing JSON\", Some { StartLine = 67 StartColumn = 3 EndLine = 69 EndColumn = 19 })], \"tutorials/JsonAnonymizer.html\", None, Some { StartLine = 67 StartColumn = 3 EndLine = 69 EndColumn = -2 }); Literal (\" - implements a function to anonymize a \", Some { StartLine = 67 StartColumn = 3 EndLine = 69 EndColumn = 43 }); InlineCode (\"JsonValue\", Some { StartLine = 67 StartColumn = 44 EndLine = 69 EndColumn = -3 }); Literal (\" from FSharp.Data.\n",
"The tutorial demonstrates pattern matching on \", Some { StartLine = 67 StartColumn = 43 EndLine = 69 EndColumn = 109 }); InlineCode (\"JsonValue\", Some { StartLine = 67 StartColumn = 110 EndLine = 69 EndColumn = -3 }); Literal (\".\", Some { StartLine = 67 StartColumn = 109 EndLine = 69 EndColumn = 110 })], Some { StartLine = 64 StartColumn = 0 EndLine = 64 EndColumn = 94 }) to pynb markdown\n",
"Below is a brief practical demonstration of using FSharp.Data:\n",
"\n"]
          }
,
          {
           "cell_type": "code",
           "metadata": {},
            "execution_count": null, "outputs": [],
           "source": ["\u003cdiv style=\"padding-left:20px\"\u003e\u003ciframe src=\"https://channel9.msdn.com/posts/Understanding-the-World-with-F/player\" width=\"640\" height=\"360\" allowFullScreen frameBorder=\"0\"\u003e\u003c/iframe\u003e\u003c/div\u003e\n"]
          }
,
          {
           "cell_type": "markdown",
           "metadata": {},
           
           "source": ["## Reference Documentation\n",
"\n",
"There\u0027s also [reference documentation](reference) available. Please note that everything under\n",
"the `FSharp.Data.Runtime` namespace is not considered as part of the public API and can change without notice.\n",
"\n",
"## Contributing and license\n",
"\n",
"The library is available under Apache 2.0. For more information see the\n",
"[License file](https://github.com/fsharp/FSharp.Data/blob/master/LICENSE.md) in the GitHub repository. In summary, this means that you can\n",
"use the library for commercial purposes, fork it, and modify it as you wish. FSharp.Data is made possible by the volunteer work [of more than a dozen\n",
"contributors](https://github.com/fsharp/FSharp.Data/graphs/contributors) and we\u0027re open to\n",
"contributions from anyone. If you want to help out but don\u0027t know where to start, you\n",
"can take one of the [Up-For-Grabs](https://github.com/fsharp/FSharp.Data/issues?labels=up-for-grabs\u0026state=open)\n",
"issues, or help to improve the documentation.\n",
"\n",
"The project is hosted on [GitHub](https://github.com/fsharp/FSharp.Data) where you can [report issues](https://github.com/fsharp/FSharp.Data/issues), fork\n",
"the project and submit pull requests. If you\u0027re adding new public API\u0027s, please also\n",
"contribute [samples](https://github.com/fsprojects/FSharp.Data/tree/master/docs/) to the docs.\n",
"\n"]
          }],
            "metadata": {
            "kernelspec": {"display_name": ".NET (F#)", "language": "F#", "name": ".net-fsharp"},
            "langauge_info": {
        "file_extension": ".fs",
        "mimetype": "text/x-fsharp",
        "name": "C#",
        "pygments_lexer": "fsharp",
        "version": "4.5"
        }
        },
            "nbformat": 4,
            "nbformat_minor": 1
        }
        

